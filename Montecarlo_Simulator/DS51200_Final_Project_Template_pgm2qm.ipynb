{
 "cells": [
  {
   "cell_type": "markdown",
   "id": "45762487-d33f-486d-8e38-2cdea04e3528",
   "metadata": {},
   "source": [
    "# Final Project Report\n",
    "\n",
    "* Class: DS 5100\n",
    "* Student Name:Francis Mangala\n",
    "* Student Net ID:pgm2qm\n",
    "* This URL: https://github.com/Franc6s/montecarlo_simulator_pgm2qm/tree/main/Montecarlo_Simulator"
   ]
  },
  {
   "cell_type": "markdown",
   "id": "acf756c1-ecaa-41dc-b6ca-d566eb94560b",
   "metadata": {},
   "source": [
    "# Instructions\n",
    "\n",
    "Follow the instructions in the Final Project isntructions notebook and put evidence of your work in this notebook.\n",
    "\n",
    "Total points for each subsection under **Deliverables** and **Scenarios** are given in parentheses.\n",
    "\n",
    "Breakdowns of points within subsections are specified within subsection instructions as bulleted lists.\n",
    "\n",
    "This project is worth **50 points**."
   ]
  },
  {
   "cell_type": "markdown",
   "id": "89dc7a32-f682-4402-8c1e-b6ccdb3e0e39",
   "metadata": {},
   "source": [
    "# Deliverables"
   ]
  },
  {
   "cell_type": "markdown",
   "id": "d32cb273-9a40-4909-a7ce-51f6e4958d3c",
   "metadata": {
    "tags": []
   },
   "source": [
    "## The Monte Carlo Module (10)\n",
    "\n",
    "- URL included, appropriately named (1).\n",
    "- Includes all three specified classes (3).\n",
    "- Includes at least all 12 specified methods (6; .5 each)."
   ]
  },
  {
   "cell_type": "markdown",
   "id": "f5f3b070-de9e-4de9-bfae-8974d184aa28",
   "metadata": {},
   "source": [
    "Put the URL to your GitHub repo here.\n",
    "\n",
    "Repo URL:https://github.com/Franc6s/montecarlo_simulator_pgm2qm/tree/main/Montecarlo_Simulator"
   ]
  },
  {
   "cell_type": "markdown",
   "id": "162370fb-3729-4c85-b040-8c25b2c966d2",
   "metadata": {},
   "source": [
    "Paste a copyy of your module here.\n",
    "\n",
    "NOTE: Paste as text, not as code. Use triple backticks to wrap your code blocks."
   ]
  },
  {
   "cell_type": "markdown",
   "id": "8eb09bb1-dee3-4b02-ad07-c96868cce029",
   "metadata": {},
   "source": [
    "# A code block with your classes.\n",
    "\n",
    "```\n",
    "import pandas as pd\n",
    "import numpy as np\n",
    "\n",
    "#|-----------------------------------------------------------------------------------|\n",
    "class Die :\n",
    "    def __init__(self,sides,weights=None):\n",
    "\n",
    "     #Takes a NumPy array of faces as an argument. Throws a TypeError if not a NumPy array\n",
    "        if not isinstance(sides, np.ndarray):\n",
    "            raise TypeError(\"Sides must be a NumPy array.\")\n",
    "    #Ensure all face values are unique\n",
    "        if len(np.unique(sides)) != len(sides):\n",
    "            raise ValueError(\"All face values must be unique.\")   \n",
    "\n",
    "        self.sides= sides\n",
    "    #Initializes the weight to 1.0 for each face\n",
    "        self.weights = weights if weights is not None else[1.0]* len(sides)\n",
    "        if len(self.weights) != len(self.sides):\n",
    "            raise ValueError(\"Weights and sides must be the same length.\")\n",
    "    #Initialize DataFrame\n",
    "        self.dice_df = pd.DataFrame({'weight': self.weights}, index=self.sides) \n",
    "    \n",
    "#|-----------------------------------------------------------------------------------|\n",
    "    def weight_change(self,sides,new_weight):\n",
    "    #to check if sides is a valid value\n",
    "        if sides not in self.dice_df.index:\n",
    "            raise IndexError(\"Side not valid.\")\n",
    "    #to check if weigh is a valid type\n",
    "        if not isinstance(new_weight,(int,float)) or new_weight < 0:\n",
    "            raise TypeError(\"Weight must be numeric\")\n",
    "        self.dice_df.at[sides,'weight'] = new_weight\n",
    "#|-----------------------------------------------------------------------------------|\n",
    "    def roll(self,nrolls=1):\n",
    "    #to roll the die N times and return an outcome\n",
    "        if not isinstance(nrolls, int) or nrolls < 1:\n",
    "            raise ValueError(\"Number of rolls must be a positive integer.\")\n",
    "        \n",
    "        sides = self.dice_df.index.to_list()\n",
    "        weights = np.array(self.dice_df['weight'])\n",
    "        probability = weights/weights.sum()\n",
    "        return list(np.random.choice(sides, size=nrolls, p=probability))\n",
    "#|-----------------------------------------------------------------------------------| \n",
    "    def show_die(self):\n",
    "        return self.dice_df.copy()\n",
    "#|-----------------------------------------------------------------------------------|\n",
    "\n",
    "class Game:\n",
    "    def __init__(self, dice):\n",
    "        self.dice = dice  # List of Die objects\n",
    "        self.results = pd.DataFrame()\n",
    "#|-----------------------------------------------------------------------------------|\n",
    "    def play(self, nrolls):\n",
    "   # Rolling all dice n times.\n",
    "        rolls = []\n",
    "        for i, die in enumerate(self.dice):\n",
    "            roll_result = pd.DataFrame(die.roll(nrolls), columns=[f'Die {i+1}'])\n",
    "            rolls.append(roll_result)\n",
    "\n",
    "        self.results = pd.concat(rolls, axis=1)\n",
    "        self.results.index = pd.RangeIndex(start=1, stop=nrolls + 1, name=\"Roll Number\")\n",
    "        self.results.columns.name = \"Die Number\" \n",
    "#|-----------------------------------------------------------------------------------|\n",
    "    def show_results(self, format='wide'):\n",
    "  \n",
    "    #Show results of the play in 'wide' or 'narrow' format.\n",
    "    \n",
    "        if self.results.empty:\n",
    "            raise ValueError(\"No results to show. Please run play() first.\")\n",
    "\n",
    "        if format == 'wide':\n",
    "            return self.results.copy()\n",
    "\n",
    "        elif format == 'narrow':\n",
    "            narrow_df = self.results.stack()\n",
    "            narrow_df.name = \"Outcome\"  # Set the name directly\n",
    "            narrow_df = narrow_df.reset_index()  # Now columns will be Roll Number, Die Number, Outcome\n",
    "            return narrow_df\n",
    "\n",
    "        else:\n",
    "            raise ValueError(\"Invalid format. Choose 'wide' or 'narrow'.\")\n",
    "\n",
    "#|-----------------------------------------------------------------------------------|       \n",
    "# Assuming Die class has a roll(n) method returning a list of face outcomes\n",
    "class Analyzer:\n",
    "\n",
    "    def __init__(self, game):\n",
    "        if not isinstance(game, Game):\n",
    "            raise ValueError(\"Input must be a Game object.\")\n",
    "        \n",
    "        self.game = game\n",
    "        self.results = game.show_results('wide')  # Ensure we always work in wide format\n",
    "#|-----------------------------------------------------------------------------------|\n",
    "    # Number of jackpots (all dice showing the same face in a roll)   \n",
    "    def jackpot(self):\n",
    "        return int((self.results.nunique(axis=1) == 1).sum())\n",
    "\n",
    "#|-----------------------------------------------------------------------------------|\n",
    "    def counts_per_roll(self):\n",
    "# Computes how many times a given face is rolled        \n",
    "        unique_faces = np.unique(self.results.values)\n",
    "        side_count = self.results.apply(lambda row: pd.Series({face: (row == face).sum() for face in unique_faces}), axis=1)\n",
    "        side_count.index = self.results.index\n",
    "        return side_count\n",
    "#|-----------------------------------------------------------------------------------|\n",
    "    def combo_count(self):\n",
    "# Computes distinct combinations of faces rolled\n",
    "        combinations = self.results.apply(lambda row: tuple(sorted(row)), axis=1)\n",
    "        counts = combinations.value_counts().rename_axis([\"Combination\"]).to_frame('Count')\n",
    "        return counts\n",
    "#|-----------------------------------------------------------------------------------|\n",
    "\n",
    "    def permutations(self):\n",
    "        permutations = self.results.apply(lambda row: tuple(row), axis=1)\n",
    "        counts = permutations.value_counts().to_frame('Count')\n",
    "        return counts\n",
    "\n",
    "#||---------------------------------------------------------------------------------||\n",
    "```"
   ]
  },
  {
   "cell_type": "markdown",
   "id": "6377727a-8f0a-491e-9f1c-d9dc225edd35",
   "metadata": {
    "tags": []
   },
   "source": [
    "## Unitest Module (2)\n",
    "\n",
    "Paste a copy of your test module below.\n",
    "\n",
    "NOTE: Paste as text, not as code. Use triple backticks to wrap your code blocks.\n",
    "\n",
    "- All methods have at least one test method (1).\n",
    "- Each method employs one of Unittest's Assert methods (1)."
   ]
  },
  {
   "cell_type": "markdown",
   "id": "034b5c56-4233-4634-bd5c-fdefda7f714b",
   "metadata": {},
   "source": [
    "# A code block with your test code.\n",
    "```\n",
    "import unittest\n",
    "import numpy as np\n",
    "import pandas as pd\n",
    "from montecarlo import Die, Game, Analyzer   \n",
    "\n",
    "class TestDie(unittest.TestCase):\n",
    "\n",
    "    def setUp(self):\n",
    "        self.faces = np.array(['A', 'B', 'C'])\n",
    "        self.die = Die(self.faces)\n",
    "\n",
    "    def test_init(self):\n",
    "        self.assertIsInstance(self.die.dice_df, pd.DataFrame)\n",
    "        self.assertListEqual(list(self.die.dice_df.index), list(self.faces))\n",
    "\n",
    "    def test_weight_change(self):\n",
    "        self.die.weight_change('A', 2.0)\n",
    "        self.assertEqual(self.die.dice_df.loc['A', 'weight'], 2.0)\n",
    "\n",
    "    def test_roll(self):\n",
    "        rolls = self.die.roll(5)\n",
    "        self.assertIsInstance(rolls, list)\n",
    "        self.assertEqual(len(rolls), 5)\n",
    "        self.assertTrue(all(roll in self.faces for roll in rolls))\n",
    "\n",
    "    def test_show_die(self):\n",
    "        df = self.die.show_die()\n",
    "        self.assertIsInstance(df, pd.DataFrame)\n",
    "        self.assertTrue('weight' in df.columns)\n",
    "\n",
    "\n",
    "class TestGame(unittest.TestCase):\n",
    "\n",
    "    def setUp(self):\n",
    "        die1 = Die(np.array(['1', '2', '3']))\n",
    "        die2 = Die(np.array(['A', 'B', 'C']))\n",
    "        self.game = Game([die1, die2])\n",
    "\n",
    "    def test_play(self):\n",
    "        self.game.play(5)\n",
    "        self.assertIsInstance(self.game.results, pd.DataFrame)\n",
    "        self.assertEqual(self.game.results.shape, (5, 2))  # 5 rolls, 2 dice\n",
    "\n",
    "    def test_show_results_wide(self):\n",
    "        self.game.play(3)\n",
    "        wide_result = self.game.show_results('wide')\n",
    "        self.assertIsInstance(wide_result, pd.DataFrame)\n",
    "        self.assertEqual(wide_result.shape, (3, 2))\n",
    "\n",
    "    def test_show_results_narrow(self):\n",
    "        self.game.play(3)\n",
    "        narrow_result = self.game.show_results('narrow')\n",
    "        self.assertIsInstance(narrow_result, pd.DataFrame)\n",
    "        self.assertTrue(set(narrow_result.columns) >= {\"Roll Number\", \"Die Number\", \"Outcome\"})\n",
    "\n",
    "\n",
    "class TestAnalyzer(unittest.TestCase):\n",
    "\n",
    "    def setUp(self):\n",
    "        die1 = Die(np.array(['1', '2', '3']))\n",
    "        die2 = Die(np.array(['A', 'B', 'C']))\n",
    "        self.game = Game([die1, die2])\n",
    "        self.game.play(10)\n",
    "        self.analyzer = Analyzer(self.game)\n",
    "\n",
    "    def test_jackpot(self):\n",
    "        jackpots = self.analyzer.jackpot()\n",
    "        self.assertTrue(isinstance(jackpots, (int, np.integer)))\n",
    "        self.assertGreaterEqual(jackpots, 0)\n",
    "\n",
    "    def test_counts_per_roll(self):\n",
    "        counts = self.analyzer.counts_per_roll()\n",
    "        self.assertIsInstance(counts, pd.DataFrame)\n",
    "        self.assertEqual(counts.shape[0], self.analyzer.results.shape[0])\n",
    "\n",
    "    def test_combo_count(self):\n",
    "        combo = self.analyzer.combo_count()\n",
    "        self.assertIsInstance(combo, pd.DataFrame)\n",
    "        self.assertIn('Count', combo.columns)\n",
    "\n",
    "    def test_permutations(self):\n",
    "        perms = self.analyzer.permutations()\n",
    "        self.assertIsInstance(perms, pd.DataFrame)\n",
    "        self.assertIn('Count', perms.columns)\n",
    "\n",
    "\n",
    "if __name__ == '__main__':\n",
    "    unittest.main()\n",
    "\n",
    "```"
   ]
  },
  {
   "cell_type": "markdown",
   "id": "3e058d03-29bc-408f-b36d-0605b4f4b8c0",
   "metadata": {
    "tags": []
   },
   "source": [
    "## Unittest Results (3)\n",
    "\n",
    "Put a copy of the results of running your tests from the command line here.\n",
    "\n",
    "Again, paste as text using triple backticks.\n",
    "\n",
    "- All 12 specified methods return OK (3; .25 each)."
   ]
  },
  {
   "cell_type": "markdown",
   "id": "9aadf4d1-7571-44dc-9f99-a75332a30d75",
   "metadata": {
    "tags": []
   },
   "source": [
    "#A text block with the output of a successful test.\n",
    "```\n",
    "\n",
    "C:\\Users\\manga\\Montecarlo Simulation\\montecarlo_simulator_pgm2qm\\Montecarlo_Simulator>python -m unittest discover tests\n",
    "...........\n",
    "----------------------------------------------------------------------\n",
    "Ran 11 tests in 0.054s\n",
    "\n",
    "OK\n",
    "```\n"
   ]
  },
  {
   "cell_type": "markdown",
   "id": "d9ffe8c5-eb2f-4ad1-af76-a46550e4c7ac",
   "metadata": {
    "tags": []
   },
   "source": [
    "## Import (1)\n",
    "\n",
    "Import your module here. This import should refer to the code in your package directory.\n",
    "\n",
    "- Module successuflly imported (1)."
   ]
  },
  {
   "cell_type": "code",
   "execution_count": 13,
   "id": "0b60f895-dcd5-431e-a091-651de1bca8f7",
   "metadata": {
    "tags": []
   },
   "outputs": [],
   "source": [
    "# e.g. import montecarlo.montecarlo \n",
    "import numpy as np\n",
    "import pandas as pd\n",
    "from montecarlo import Die, Game, Analyzer\n",
    " \n",
    " "
   ]
  },
  {
   "cell_type": "markdown",
   "id": "f30c4842-65b1-4556-98b6-3fe1a07e1371",
   "metadata": {},
   "source": [
    "## Help Docs (4)\n",
    "\n",
    "Show your docstring documentation by applying `help()` to your imported module.\n",
    "\n",
    "- All methods have a docstring (3; .25 each).\n",
    "- All classes have a docstring (1; .33 each)."
   ]
  },
  {
   "cell_type": "markdown",
   "id": "91b64de3-8508-429f-97ea-88abb8f0621b",
   "metadata": {
    "tags": []
   },
   "source": [
    "# help(montecarlo)\n",
    "```\n",
    "help(Die)\n",
    "help(Game)\n",
    "help(Analyzer)\n",
    "\n",
    "\n",
    "class Die(builtins.object)\n",
    " |  Die(sides, weights=None)\n",
    " |\n",
    " |  A Die class representing a die with customizable sides and weights.\n",
    " |\n",
    " |  Methods defined here:\n",
    " |\n",
    " |  __init__(self, sides, weights=None)\n",
    " |      Initialize a Die.\n",
    " |\n",
    " |      Args:\n",
    " |          sides (np.ndarray): A NumPy array of unique face values.\n",
    " |          weights (list, optional): A list of weights corresponding to each side.\n",
    " |              Defaults to equal weights of 1.0 for each side.\n",
    " |\n",
    " |      Raises:\n",
    " |          TypeError: If sides is not a NumPy array.\n",
    " |          ValueError: If sides are not unique or if sides and weights lengths mismatch.\n",
    " |\n",
    " |  roll(self, nrolls=1)\n",
    " |      to roll the die N times and return an outcome\n",
    " |\n",
    " |  show_die(self)\n",
    " |\n",
    " |  weight_change(self, sides, new_weight)\n",
    " |      Change the weight of a specific side.\n",
    " |\n",
    " |      Args:\n",
    " |      sides (str): The side whose weight is to be changed.\n",
    " |      new_weight (int or float): The new weight for the side.\n",
    " |\n",
    " |      Raises:\n",
    " |      IndexError: If the side is not found.\n",
    " |      TypeError: If the new weight is not a positive number.\n",
    " |\n",
    " |   \n",
    " |  Data descriptors defined here:\n",
    " |\n",
    " |  __dict__\n",
    " |      dictionary for instance variables\n",
    " |\n",
    " |  __weakref__\n",
    " |      list of weak references to the object\n",
    "\n",
    "The value specified in an AutoRun registry key could not be parsed.\n",
    "Help on class Game in module Montecarlo_Simulator.montecarlo.montecarlo:\n",
    "\n",
    "class Game(builtins.object)\n",
    " |  Game(dice)\n",
    " |\n",
    " |  A Game class to simulate rolling multiple dice.\n",
    " |\n",
    " |  Methods defined here:\n",
    " |\n",
    " |  __init__(self, dice)\n",
    " |      Initialize a Game with a list of dice.\n",
    " |\n",
    " |      Args:\n",
    " |      dice (list): List of Die objects.\n",
    " |\n",
    " |  play(self, nrolls)\n",
    " |      Rolling all dice N times.\n",
    " |\n",
    " |  show_results(self, format='wide')\n",
    " |      Show results of the play in 'wide' or 'narrow' format\n",
    " |\n",
    " |   \n",
    " |  Data descriptors defined here:\n",
    " |\n",
    " |  __dict__\n",
    " |      dictionary for instance variables\n",
    " |\n",
    " |  __weakref__\n",
    " |      list of weak references to the object\n",
    "\n",
    "The value specified in an AutoRun registry key could not be parsed.\n",
    "Help on class Analyzer in module Montecarlo_Simulator.montecarlo.montecarlo:\n",
    "\n",
    "class Analyzer(builtins.object)\n",
    " |  Analyzer(game)\n",
    " |\n",
    " |  An Analyzer class to analyze the results of a Game.\n",
    " |\n",
    " |  Methods defined here:\n",
    " |\n",
    " |  __init__(self, game)\n",
    " |      Initialize an Analyzer with a Game object.\n",
    " |\n",
    " |      Args:\n",
    " |          game (Game): A completed Game object.\n",
    " |\n",
    " |      Raises:\n",
    " |          ValueError: If the input is not a Game instance.\n",
    " |\n",
    " |  combo_count(self)\n",
    " |      Computes distinct combinations of faces rolled\n",
    " |\n",
    " |  counts_per_roll(self)\n",
    " |      Computes how many times a given face is rolled\n",
    " |\n",
    " |  jackpot(self)\n",
    " |      Number of jackpots (all dice showing the same face in a roll)\n",
    " |\n",
    " |  permutations(self)\n",
    " |      Calculate the frequency of each permutation of rolled faces\n",
    " |\n",
    " |   \n",
    " |  Data descriptors defined here:\n",
    " |\n",
    " |  __dict__\n",
    " |      dictionary for instance variables\n",
    " |\n",
    " |  __weakref__\n",
    " |      list of weak references to the object\n",
    "```"
   ]
  },
  {
   "cell_type": "markdown",
   "id": "a9defa84-b395-4966-bd1c-5c6c2bb7ed68",
   "metadata": {},
   "source": [
    "## `README.md` File (3)\n",
    "\n",
    "Provide link to the README.md file of your project's repo.\n",
    "\n",
    "- Metadata section or info present (1).\n",
    "- Synopsis section showing how each class is called (1). (All must be included.)\n",
    "- API section listing all classes and methods (1). (All must be included.)"
   ]
  },
  {
   "cell_type": "markdown",
   "id": "ee090b33-d593-48a0-bf35-e739cea0942c",
   "metadata": {},
   "source": [
    "URL:https://github.com/Franc6s/montecarlo_simulator_pgm2qm/blob/main/Montecarlo_Simulator/README.md"
   ]
  },
  {
   "cell_type": "markdown",
   "id": "108604c8-8827-42ef-ab59-6b25428fc0ca",
   "metadata": {},
   "source": [
    "## Successful installation (2)\n",
    "\n",
    "Put a screenshot or paste a copy of a terminal session where you successfully install your module with pip.\n",
    "\n",
    "If pasting text, use a preformatted text block to show the results.\n",
    "\n",
    "- Installed with `pip` (1).\n",
    "- Successfully installed message appears (1)."
   ]
  },
  {
   "cell_type": "markdown",
   "id": "c8b3baeb-a7a5-4738-86c0-0be32f125eef",
   "metadata": {},
   "source": [
    "# Pasted code\n",
    "```\n",
    "C:\\Users\\manga\\Montecarlo Simulation\\montecarlo_simulator_pgm2qm\\Montecarlo_Simulator>pip install -e .\n",
    "Obtaining file:///C:/Users/manga/Montecarlo%20Simulation/montecarlo_simulator_pgm2qm/Montecarlo_Simulator\n",
    "  Installing build dependencies ... done\n",
    "  Checking if build backend supports build_editable ... done\n",
    "  Getting requirements to build editable ... done\n",
    "  Preparing editable metadata (pyproject.toml) ... done\n",
    "Requirement already satisfied: numpy in c:\\users\\manga\\appdata\\local\\programs\\python\\python313\\lib\\site-packages (from Montecarlo_Simulator==1.1) (2.2.3)\n",
    "Requirement already satisfied: pandas in c:\\users\\manga\\appdata\\local\\programs\\python\\python313\\lib\\site-packages (from Montecarlo_Simulator==1.1) (2.2.3)\n",
    "Requirement already satisfied: python-dateutil>=2.8.2 in c:\\users\\manga\\appdata\\local\\programs\\python\\python313\\lib\\site-packages (from pandas->Montecarlo_Simulator==1.1) (2.9.0.post0)\n",
    "Requirement already satisfied: pytz>=2020.1 in c:\\users\\manga\\appdata\\local\\programs\\python\\python313\\lib\\site-packages (from pandas->Montecarlo_Simulator==1.1) (2025.1)\n",
    "Requirement already satisfied: tzdata>=2022.7 in c:\\users\\manga\\appdata\\local\\programs\\python\\python313\\lib\\site-packages (from pandas->Montecarlo_Simulator==1.1) (2025.1)\n",
    "Requirement already satisfied: six>=1.5 in c:\\users\\manga\\appdata\\local\\programs\\python\\python313\\lib\\site-packages (from python-dateutil>=2.8.2->pandas->Montecarlo_Simulator==1.1) (1.17.0)\n",
    "Building wheels for collected packages: Montecarlo_Simulator\n",
    "  Building editable for Montecarlo_Simulator (pyproject.toml) ... done\n",
    "  Created wheel for Montecarlo_Simulator: filename=montecarlo_simulator-1.1-0.editable-py3-none-any.whl size=3893 sha256=9547af029813ae58579ab1223769500a144172cdc30f9c2213e065837fd08b97\n",
    "  Stored in directory: C:\\Users\\manga\\AppData\\Local\\Temp\\pip-ephem-wheel-cache-j8chd48t\\wheels\\19\\49\\89\\35c6b1200d414684ace0de8b4488250b28e803bc210cceff01\n",
    "Successfully built Montecarlo_Simulator\n",
    "Installing collected packages: Montecarlo_Simulator\n",
    "  Attempting uninstall: Montecarlo_Simulator\n",
    "    Found existing installation: Montecarlo_Simulator 1.1\n",
    "    Uninstalling Montecarlo_Simulator-1.1:\n",
    "      Successfully uninstalled Montecarlo_Simulator-1.1\n",
    "Successfully installed Montecarlo_Simulator-1.1\n",
    "```"
   ]
  },
  {
   "cell_type": "code",
   "execution_count": null,
   "id": "42f2bd55-882d-4bb8-aec7-e79ecfece8ba",
   "metadata": {},
   "outputs": [],
   "source": []
  },
  {
   "cell_type": "markdown",
   "id": "7c44695d-d1b3-4edf-9f94-e64d7446f199",
   "metadata": {},
   "source": [
    "# Scenarios\n",
    "\n",
    "Use code blocks to perform the tasks for each scenario.\n",
    "\n",
    "Be sure the outputs are visible before submitting."
   ]
  },
  {
   "cell_type": "markdown",
   "id": "e2479eae-6fc9-44cd-b8d7-9b22cb501f2a",
   "metadata": {
    "tags": []
   },
   "source": [
    "## Scenario 1: A 2-headed Coin (9)\n",
    "\n",
    "Task 1. Create a fair coin (with faces $H$ and $T$) and one unfair coin in which one of the faces has a weight of $5$ and the others $1$.\n",
    "\n",
    "- Fair coin created (1).\n",
    "- Unfair coin created with weight as specified (1)."
   ]
  },
  {
   "cell_type": "code",
   "execution_count": 22,
   "id": "55ce498e-c75f-4425-9e3e-b635bd6cd9e1",
   "metadata": {},
   "outputs": [
    {
     "name": "stdout",
     "output_type": "stream",
     "text": [
      "   weight\n",
      "H     1.0\n",
      "T     1.0\n",
      "   weight\n",
      "H     5.0\n",
      "T     1.0\n"
     ]
    }
   ],
   "source": [
    "from montecarlo import Die, Game, Analyzer\n",
    "import numpy as np\n",
    "\n",
    "#create a 2-headed coin (H=head, T=Tail)\n",
    "coin = np.array(['H','T'])\n",
    "\n",
    "#create a fair coin\n",
    "fair_coin =Die(sides=coin)\n",
    "#create unfair coing\n",
    "unfair_coin = Die(sides=coin)\n",
    "unfair_coin.weight_change('H',5)\n",
    "\n",
    "print(fair_coin.show_die())\n",
    "print(unfair_coin.show_die())"
   ]
  },
  {
   "cell_type": "markdown",
   "id": "02b272ab-99da-4b6e-ac2a-555b73e09c07",
   "metadata": {},
   "source": [
    "Task 2. Play a game of $1000$ flips with two fair dice.\n",
    "\n",
    "- Play method called correclty and without error (1)."
   ]
  },
  {
   "cell_type": "code",
   "execution_count": 24,
   "id": "65c92601-d32d-4326-b215-74953aee27f2",
   "metadata": {},
   "outputs": [
    {
     "name": "stdout",
     "output_type": "stream",
     "text": [
      "Die Number  Die 1 Die 2\n",
      "Roll Number            \n",
      "1               H     H\n",
      "2               T     T\n",
      "3               H     T\n",
      "4               H     H\n",
      "5               T     H\n",
      "6               T     T\n",
      "7               T     H\n",
      "8               H     T\n",
      "9               T     H\n",
      "10              H     T\n"
     ]
    }
   ],
   "source": [
    "#create 2 fair dice\n",
    "fair_dice1 =Die(coin)\n",
    "fair_dice2 =Die(coin)\n",
    "\n",
    "#create game\n",
    "Game1 = Game([fair_dice1,fair_dice2])\n",
    "Game1.play(1000)\n",
    "print(Game1.show_results('wide').head(10))\n"
   ]
  },
  {
   "cell_type": "markdown",
   "id": "7d9c3dc8-22c1-4cae-81fb-d68d774a05d1",
   "metadata": {},
   "source": [
    "Task 3. Play another game (using a new Game object) of $1000$ flips, this time using two unfair dice and one fair die. For the second unfair die, you can use the same die object twice in the list of dice you pass to the Game object.\n",
    "\n",
    "- New game object created (1).\n",
    "- Play method called correclty and without error (1)."
   ]
  },
  {
   "cell_type": "code",
   "execution_count": 26,
   "id": "d4098bed-1eb2-4084-8d5e-9fda07c3be43",
   "metadata": {},
   "outputs": [
    {
     "name": "stdout",
     "output_type": "stream",
     "text": [
      "Die Number  Die 1 Die 2 Die 3\n",
      "Roll Number                  \n",
      "1               H     H     T\n",
      "2               H     H     H\n",
      "3               T     H     T\n",
      "4               H     H     T\n",
      "5               H     H     T\n",
      "6               H     H     H\n",
      "7               H     H     H\n",
      "8               H     H     T\n",
      "9               H     H     H\n",
      "10              H     H     T\n"
     ]
    }
   ],
   "source": [
    "#create 2 unfair dice and 1 fair dice\n",
    "unfair_dice = Die(coin)\n",
    "unfair_dice.weight_change('H',5)\n",
    "fair_dice = Die(coin)\n",
    "\n",
    "#create game and print results\n",
    "Game2 = Game([unfair_dice,unfair_dice,fair_dice])\n",
    "Game2.play(1000)\n",
    "\n",
    "print(Game2.show_results('wide').head(10))"
   ]
  },
  {
   "cell_type": "markdown",
   "id": "f690ebfc-fe71-4eb2-976d-7ac80ca6c23f",
   "metadata": {},
   "source": [
    "Task 4. For each game, use an Analyzer object to determine the raw frequency of jackpots — i.e. getting either all $H$s or all $T$s.\n",
    "\n",
    "- Analyzer objecs instantiated for both games (1).\n",
    "- Raw frequencies reported for both (1)."
   ]
  },
  {
   "cell_type": "code",
   "execution_count": 28,
   "id": "b26b8b7e-3be7-4476-a9a4-37d97536729e",
   "metadata": {},
   "outputs": [
    {
     "name": "stdout",
     "output_type": "stream",
     "text": [
      "Number of jackpots in Game Task 2 : 485\n",
      "Number of jackpots in Game Task 3 : 361\n"
     ]
    }
   ],
   "source": [
    "#Analyzer dice_game\n",
    "Game1_analyzer = Analyzer(Game1)\n",
    "Game1_jackpot = Game1_analyzer.jackpot()\n",
    "#Raw frequency report\n",
    "print(f\"Number of jackpots in Game Task 2 : {Game1_jackpot}\")\n",
    "\n",
    "#Analyzer dice_game_2\n",
    "Game2_analyzer = Analyzer(Game2)\n",
    "Game2_jackpot = Game2_analyzer.jackpot()\n",
    "#Raw frequency report\n",
    "print(f\"Number of jackpots in Game Task 3 : {Game2_jackpot}\")"
   ]
  },
  {
   "cell_type": "markdown",
   "id": "b73d233c-445e-40cd-8858-0c5e1f097105",
   "metadata": {},
   "source": [
    "Task 5. For each analyzer, compute relative frequency as the number of jackpots over the total number of rolls.\n",
    "\n",
    "- Both relative frequencies computed (1)."
   ]
  },
  {
   "cell_type": "code",
   "execution_count": 30,
   "id": "9a96b31b-1b9d-496e-be3e-4bf83c45ec3a",
   "metadata": {},
   "outputs": [
    {
     "data": {
      "text/plain": [
       "0.485"
      ]
     },
     "execution_count": 30,
     "metadata": {},
     "output_type": "execute_result"
    }
   ],
   "source": [
    "#number of rolls played by games\n",
    "\n",
    "nrolls = 1000\n",
    "\n",
    "#relative frequencies\n",
    "relative_freq_Game1 = Game1_jackpot / nrolls\n",
    "relative_freq_Game1\n"
   ]
  },
  {
   "cell_type": "code",
   "execution_count": 31,
   "id": "71ac38ca-28e2-4c6f-81dd-6fe5f97f53a8",
   "metadata": {},
   "outputs": [
    {
     "data": {
      "text/plain": [
       "0.361"
      ]
     },
     "execution_count": 31,
     "metadata": {},
     "output_type": "execute_result"
    }
   ],
   "source": [
    "relative_freq_Game2 = Game2_jackpot / nrolls\n",
    "relative_freq_Game2"
   ]
  },
  {
   "cell_type": "markdown",
   "id": "a6e1e734-7f5c-4721-8ba4-2f3a424cf984",
   "metadata": {},
   "source": [
    "Task 6. Show your results, comparing the two relative frequencies, in a simple bar chart.\n",
    "\n",
    "- Bar chart plotted and correct (1)."
   ]
  },
  {
   "cell_type": "code",
   "execution_count": 33,
   "id": "473fa67c-aa53-4aa3-a0b7-e8772b3f6ed3",
   "metadata": {},
   "outputs": [
    {
     "data": {
      "image/png": "[encoded data removed]",
      "text/plain": [
       "<Figure size 640x480 with 1 Axes>"
      ]
     },
     "metadata": {},
     "output_type": "display_data"
    }
   ],
   "source": [
    "import matplotlib.pyplot as plt\n",
    "\n",
    "Games = ['Game1','Game2']\n",
    "relative_frequencies = [relative_freq_Game1,relative_freq_Game2]\n",
    "\n",
    "#create bar chart\n",
    "plt.bar(Games,relative_frequencies)\n",
    "plt.ylabel('Relative Frequency')\n",
    "plt.show()"
   ]
  },
  {
   "cell_type": "raw",
   "id": "8b6aa35a-b83b-47d8-a4a1-e2be99108356",
   "metadata": {},
   "source": []
  },
  {
   "cell_type": "markdown",
   "id": "725cfa5b-e4b7-47c9-86aa-8d9e1fe6c8c7",
   "metadata": {},
   "source": [
    "## Scenario 2: A 6-sided Die (9)\n",
    "\n",
    "Task 1. Create three dice, each with six sides having the faces 1 through 6.\n",
    "\n",
    "- Three die objects created (1)."
   ]
  },
  {
   "cell_type": "code",
   "execution_count": 35,
   "id": "6a8bc611-325a-4e05-88d5-980e0a2cf7c5",
   "metadata": {},
   "outputs": [],
   "source": [
    "dice = np.array(['1','2','3','4','5','6'])\n",
    "\n",
    "dice_1 = Die(dice)\n",
    "dice_2 = Die(dice)\n",
    "dice_3 = Die(dice)"
   ]
  },
  {
   "cell_type": "markdown",
   "id": "2ed3ad26-fbe9-43bd-9ad7-f683a4191d12",
   "metadata": {},
   "source": [
    "Task 2. Convert one of the dice to an unfair one by weighting the face $6$ five times more than the other weights (i.e. it has weight of 5 and the others a weight of 1 each).\n",
    "\n",
    "- Unfair die created with proper call to weight change method (1)."
   ]
  },
  {
   "cell_type": "code",
   "execution_count": 37,
   "id": "e33dd18f-7f90-456d-a680-61c08a328e21",
   "metadata": {},
   "outputs": [],
   "source": [
    "dice_2.weight_change('6',5)"
   ]
  },
  {
   "cell_type": "markdown",
   "id": "7f6c062a-4c5b-45b9-96b8-76a0354c7e47",
   "metadata": {},
   "source": [
    "Task 3. Convert another of the dice to be unfair by weighting the face $1$ five times more than the others.\n",
    "\n",
    "- Unfair die created with proper call to weight change method (1)."
   ]
  },
  {
   "cell_type": "code",
   "execution_count": 39,
   "id": "01133a4e-6b06-4246-8d90-8e6d6995be51",
   "metadata": {},
   "outputs": [],
   "source": [
    "dice_3.weight_change('1',5)"
   ]
  },
  {
   "cell_type": "markdown",
   "id": "f0ed31cb-0a3c-4eb2-b85e-6ed6b2eb6e58",
   "metadata": {},
   "source": [
    "Task 4. Play a game of $10000$ rolls with $5$ fair dice.\n",
    "\n",
    "- Game class properly instantiated (1). \n",
    "- Play method called properly (1)."
   ]
  },
  {
   "cell_type": "code",
   "execution_count": 41,
   "id": "e92395a4-9ed8-4cb0-8c85-38768a784ffc",
   "metadata": {},
   "outputs": [
    {
     "name": "stdout",
     "output_type": "stream",
     "text": [
      "Die Number  Die 1 Die 2 Die 3 Die 4 Die 5\n",
      "Roll Number                              \n",
      "1               5     2     2     5     1\n",
      "2               1     4     6     6     6\n",
      "3               5     2     4     1     2\n",
      "4               1     5     3     2     6\n",
      "5               1     6     3     5     1\n",
      "6               6     2     4     1     3\n",
      "7               3     6     6     1     6\n",
      "8               3     2     2     2     5\n",
      "9               4     2     2     5     1\n",
      "10              5     3     1     6     1\n"
     ]
    }
   ],
   "source": [
    "fair_dice_1 = Die(dice)\n",
    "fair_dice_2 = Die(dice)\n",
    "fair_dice_3 = Die(dice)\n",
    "fair_dice_4 = Die(dice)\n",
    "fair_dice_5 = Die(dice)\n",
    "\n",
    "#set game\n",
    "Game3 = Game([fair_dice_1,fair_dice_2,fair_dice_3,fair_dice_4,fair_dice_5])\n",
    "\n",
    "#nrolls 10000\n",
    "Game3.play(10000)\n",
    "print(Game3.show_results('wide').head(10))"
   ]
  },
  {
   "cell_type": "markdown",
   "id": "7814b402-46a4-40e5-8141-20e05c3e646b",
   "metadata": {},
   "source": [
    "Task 5. Play another game of $10000$ rolls, this time with $2$ unfair dice, one as defined in steps #2 and #3 respectively, and $3$ fair dice.\n",
    "\n",
    "- Game class properly instantiated (1). \n",
    "- Play method called properly (1)."
   ]
  },
  {
   "cell_type": "code",
   "execution_count": 43,
   "id": "7cd58fba-b2a5-4d5d-bc6d-2a7a68d18c4f",
   "metadata": {},
   "outputs": [
    {
     "name": "stdout",
     "output_type": "stream",
     "text": [
      "Die Number  Die 1 Die 2 Die 3 Die 4 Die 5\n",
      "Roll Number                              \n",
      "1               2     6     1     1     5\n",
      "2               3     6     1     5     5\n",
      "3               1     1     4     4     3\n",
      "4               6     4     2     5     4\n",
      "5               4     6     1     4     3\n",
      "6               3     6     1     5     3\n",
      "7               6     6     1     6     5\n",
      "8               2     4     1     2     5\n",
      "9               1     6     3     1     3\n",
      "10              5     4     3     6     6\n"
     ]
    }
   ],
   "source": [
    "#create 2 unfair dice and 3 fair dice\n",
    "fair_dice_1 = Die(dice)\n",
    "unfair_dice_2 = Die(dice)\n",
    "unffair_dice_3 = Die(dice)\n",
    "fair_dice_4 = Die(dice)\n",
    "fair_dice_5 = Die(dice)\n",
    "\n",
    "unfair_dice_2.weight_change('6',5)\n",
    "unffair_dice_3.weight_change('1',5)\n",
    "\n",
    "#set game\n",
    "Game4 = Game([fair_dice_1,unfair_dice_2,unffair_dice_3,fair_dice_4,fair_dice_5])\n",
    "\n",
    "#nrolls 10000\n",
    "Game4.play(10000)\n",
    "print(Game4.show_results('wide').head(10))"
   ]
  },
  {
   "cell_type": "markdown",
   "id": "7b6cd372-2bb8-4df8-ade1-8f48bc300955",
   "metadata": {},
   "source": [
    "Task 6. For each game, use an Analyzer object to determine the relative frequency of jackpots and show your results, comparing the two relative frequencies, in a simple bar chart.\n",
    "\n",
    "- Jackpot methods called (1).\n",
    "- Graph produced (1)."
   ]
  },
  {
   "cell_type": "code",
   "execution_count": 45,
   "id": "bbdcf695-8937-406e-9b53-aa0b9ee3c59a",
   "metadata": {},
   "outputs": [],
   "source": [
    "#Analyzer dice_game\n",
    "\n",
    "#Game3\n",
    "Game3_analyzer = Analyzer(Game3)\n",
    "Game3_jackpot = Game3_analyzer.jackpot()\n",
    "\n",
    "#Game4\n",
    "Game4_analyzer = Analyzer(Game4)\n",
    "Game4_jackpot = Game4_analyzer.jackpot()\n"
   ]
  },
  {
   "cell_type": "code",
   "execution_count": 49,
   "id": "d8c60c20-d639-43ad-94d0-0f58fa7540bd",
   "metadata": {},
   "outputs": [
    {
     "data": {
      "text/plain": [
       "0.001"
      ]
     },
     "execution_count": 49,
     "metadata": {},
     "output_type": "execute_result"
    }
   ],
   "source": [
    "#number of rolls played by games\n",
    "nrolls = 10000\n",
    "\n",
    "#relative frequencies\n",
    "relative_freq_Game3 = Game3_jackpot / nrolls\n",
    "relative_freq_Game3"
   ]
  },
  {
   "cell_type": "code",
   "execution_count": 51,
   "id": "916a74d7-1ca4-49f8-bf05-b683bcd66058",
   "metadata": {},
   "outputs": [
    {
     "data": {
      "text/plain": [
       "0.0004"
      ]
     },
     "execution_count": 51,
     "metadata": {},
     "output_type": "execute_result"
    }
   ],
   "source": [
    "relative_freq_Game4 = Game4_jackpot / nrolls\n",
    "relative_freq_Game4"
   ]
  },
  {
   "cell_type": "code",
   "execution_count": 53,
   "id": "da7da5cb-d65f-4109-82f8-2679d9a68fd5",
   "metadata": {},
   "outputs": [
    {
     "data": {
      "image/png": "[encoded data removed]",
      "text/plain": [
       "<Figure size 640x480 with 1 Axes>"
      ]
     },
     "metadata": {},
     "output_type": "display_data"
    }
   ],
   "source": [
    "#Chart\n",
    "import matplotlib.pyplot as plt\n",
    "\n",
    "Dice_Games = ['Game3','Game4']\n",
    "relative_frequencies = [relative_freq_Game3,relative_freq_Game4]\n",
    "\n",
    "#create bar chart\n",
    "plt.bar(Dice_Games,relative_frequencies)\n",
    "plt.ylabel('Relative Frequency')\n",
    "plt.show()"
   ]
  },
  {
   "cell_type": "markdown",
   "id": "9f04e9be-8fcf-4ea4-a391-6614608285f8",
   "metadata": {},
   "source": [
    "## Scenario 3: Letters of the Alphabet (7)\n",
    "\n",
    "Task 1. Create a \"die\" of letters from $A$ to $Z$ with weights based on their frequency of usage as found in the data file `english_letters.txt`. Use the frequencies (i.e. raw counts) as weights.\n",
    "\n",
    "- Die correctly instantiated with source file data (1).\n",
    "- Weights properly applied using weight setting method (1)."
   ]
  },
  {
   "cell_type": "code",
   "execution_count": 56,
   "id": "b0ceb771-3cdf-4d8f-8c2c-020806bbb909",
   "metadata": {},
   "outputs": [
    {
     "name": "stderr",
     "output_type": "stream",
     "text": [
      "C:\\Users\\manga\\AppData\\Local\\Temp\\ipykernel_6400\\206040871.py:1: FutureWarning: The 'delim_whitespace' keyword in pd.read_csv is deprecated and will be removed in a future version. Use ``sep='\\s+'`` instead\n",
      "  letters_df = df = pd.read_csv(\"english_letters.txt\", delim_whitespace=True,header=None, names=['Letter', 'Frequency'])\n"
     ]
    },
    {
     "data": {
      "text/html": [
       "<div>\n",
       "<style scoped>\n",
       "    .dataframe tbody tr th:only-of-type {\n",
       "        vertical-align: middle;\n",
       "    }\n",
       "\n",
       "    .dataframe tbody tr th {\n",
       "        vertical-align: top;\n",
       "    }\n",
       "\n",
       "    .dataframe thead th {\n",
       "        text-align: right;\n",
       "    }\n",
       "</style>\n",
       "<table border=\"1\" class=\"dataframe\">\n",
       "  <thead>\n",
       "    <tr style=\"text-align: right;\">\n",
       "      <th></th>\n",
       "      <th>Letter</th>\n",
       "      <th>Frequency</th>\n",
       "    </tr>\n",
       "  </thead>\n",
       "  <tbody>\n",
       "    <tr>\n",
       "      <th>0</th>\n",
       "      <td>E</td>\n",
       "      <td>529117365</td>\n",
       "    </tr>\n",
       "    <tr>\n",
       "      <th>1</th>\n",
       "      <td>T</td>\n",
       "      <td>390965105</td>\n",
       "    </tr>\n",
       "    <tr>\n",
       "      <th>2</th>\n",
       "      <td>A</td>\n",
       "      <td>374061888</td>\n",
       "    </tr>\n",
       "    <tr>\n",
       "      <th>3</th>\n",
       "      <td>O</td>\n",
       "      <td>326627740</td>\n",
       "    </tr>\n",
       "    <tr>\n",
       "      <th>4</th>\n",
       "      <td>I</td>\n",
       "      <td>320410057</td>\n",
       "    </tr>\n",
       "    <tr>\n",
       "      <th>5</th>\n",
       "      <td>N</td>\n",
       "      <td>313720540</td>\n",
       "    </tr>\n",
       "    <tr>\n",
       "      <th>6</th>\n",
       "      <td>S</td>\n",
       "      <td>294300210</td>\n",
       "    </tr>\n",
       "    <tr>\n",
       "      <th>7</th>\n",
       "      <td>R</td>\n",
       "      <td>277000841</td>\n",
       "    </tr>\n",
       "    <tr>\n",
       "      <th>8</th>\n",
       "      <td>H</td>\n",
       "      <td>216768975</td>\n",
       "    </tr>\n",
       "    <tr>\n",
       "      <th>9</th>\n",
       "      <td>L</td>\n",
       "      <td>183996130</td>\n",
       "    </tr>\n",
       "  </tbody>\n",
       "</table>\n",
       "</div>"
      ],
      "text/plain": [
       "  Letter  Frequency\n",
       "0      E  529117365\n",
       "1      T  390965105\n",
       "2      A  374061888\n",
       "3      O  326627740\n",
       "4      I  320410057\n",
       "5      N  313720540\n",
       "6      S  294300210\n",
       "7      R  277000841\n",
       "8      H  216768975\n",
       "9      L  183996130"
      ]
     },
     "execution_count": 56,
     "metadata": {},
     "output_type": "execute_result"
    }
   ],
   "source": [
    "letters_df = df = pd.read_csv(\"english_letters.txt\", delim_whitespace=True,header=None, names=['Letter', 'Frequency'])\n",
    "letters_df.head(10)"
   ]
  },
  {
   "cell_type": "code",
   "execution_count": 58,
   "id": "6e7f0888-fd30-40f8-8d0a-206412267896",
   "metadata": {},
   "outputs": [],
   "source": [
    "sides = np.array(letters_df['Letter'])\n",
    "letter_dice = Die(sides)\n",
    "for _, row in letters_df.iterrows():\n",
    "    letter_dice.weight_change(row[\"Letter\"], row[\"Frequency\"])"
   ]
  },
  {
   "cell_type": "markdown",
   "id": "88e2e14a-6223-470a-a2c8-bca1120d7a5b",
   "metadata": {},
   "source": [
    "Task 2. Play a game involving $4$ of these dice with $1000$ rolls.\n",
    "\n",
    "- Game play method properly called (1)."
   ]
  },
  {
   "cell_type": "code",
   "execution_count": 61,
   "id": "2ae087cc-936d-4f1e-bddb-a7c179d139e0",
   "metadata": {},
   "outputs": [
    {
     "name": "stdout",
     "output_type": "stream",
     "text": [
      "Die Number  Die 1 Die 2 Die 3\n",
      "Roll Number                  \n",
      "1               O     R     D\n",
      "2               O     P     C\n",
      "3               G     Z     I\n",
      "4               I     N     O\n",
      "5               M     I     A\n",
      "6               D     I     L\n",
      "7               G     M     E\n",
      "8               E     L     R\n",
      "9               L     T     R\n",
      "10              O     O     P\n"
     ]
    }
   ],
   "source": [
    "letter_dice1 = letter_dice\n",
    "letter_dice2 = letter_dice\n",
    "letter_dice3 = letter_dice\n",
    "\n",
    "Game5 = Game([letter_dice1,letter_dice2,letter_dice3])\n",
    "Game5.play(1000)\n",
    "print(Game5.show_results('wide').head(10))"
   ]
  },
  {
   "cell_type": "markdown",
   "id": "3b9ff800-bf1f-4f66-9d7f-ff57a648e9f0",
   "metadata": {},
   "source": [
    "Task 3. Determine how many permutations in your results are actual English words, based on the vocabulary found in `scrabble_words.txt`.\n",
    "\n",
    "- Use permutation method (1).\n",
    "- Get count as difference between permutations and vocabulary (1)."
   ]
  },
  {
   "cell_type": "code",
   "execution_count": 64,
   "id": "ed1c7fa0-cfa3-4cf4-9fd0-9f84b86b0f64",
   "metadata": {},
   "outputs": [
    {
     "name": "stderr",
     "output_type": "stream",
     "text": [
      "C:\\Users\\manga\\AppData\\Local\\Temp\\ipykernel_6400\\1316183557.py:1: FutureWarning: The 'delim_whitespace' keyword in pd.read_csv is deprecated and will be removed in a future version. Use ``sep='\\s+'`` instead\n",
      "  words_df = df = pd.read_csv(\"scrabble_words.txt\", delim_whitespace=True, names=['words'])\n"
     ]
    },
    {
     "data": {
      "text/html": [
       "<div>\n",
       "<style scoped>\n",
       "    .dataframe tbody tr th:only-of-type {\n",
       "        vertical-align: middle;\n",
       "    }\n",
       "\n",
       "    .dataframe tbody tr th {\n",
       "        vertical-align: top;\n",
       "    }\n",
       "\n",
       "    .dataframe thead th {\n",
       "        text-align: right;\n",
       "    }\n",
       "</style>\n",
       "<table border=\"1\" class=\"dataframe\">\n",
       "  <thead>\n",
       "    <tr style=\"text-align: right;\">\n",
       "      <th></th>\n",
       "      <th>words</th>\n",
       "    </tr>\n",
       "  </thead>\n",
       "  <tbody>\n",
       "    <tr>\n",
       "      <th>0</th>\n",
       "      <td>AA</td>\n",
       "    </tr>\n",
       "    <tr>\n",
       "      <th>1</th>\n",
       "      <td>AAH</td>\n",
       "    </tr>\n",
       "    <tr>\n",
       "      <th>2</th>\n",
       "      <td>AAHED</td>\n",
       "    </tr>\n",
       "    <tr>\n",
       "      <th>3</th>\n",
       "      <td>AAHING</td>\n",
       "    </tr>\n",
       "    <tr>\n",
       "      <th>4</th>\n",
       "      <td>AAHS</td>\n",
       "    </tr>\n",
       "    <tr>\n",
       "      <th>5</th>\n",
       "      <td>AAL</td>\n",
       "    </tr>\n",
       "    <tr>\n",
       "      <th>6</th>\n",
       "      <td>AALII</td>\n",
       "    </tr>\n",
       "    <tr>\n",
       "      <th>7</th>\n",
       "      <td>AALIIS</td>\n",
       "    </tr>\n",
       "    <tr>\n",
       "      <th>8</th>\n",
       "      <td>AALS</td>\n",
       "    </tr>\n",
       "    <tr>\n",
       "      <th>9</th>\n",
       "      <td>AARDVARK</td>\n",
       "    </tr>\n",
       "  </tbody>\n",
       "</table>\n",
       "</div>"
      ],
      "text/plain": [
       "      words\n",
       "0        AA\n",
       "1       AAH\n",
       "2     AAHED\n",
       "3    AAHING\n",
       "4      AAHS\n",
       "5       AAL\n",
       "6     AALII\n",
       "7    AALIIS\n",
       "8      AALS\n",
       "9  AARDVARK"
      ]
     },
     "execution_count": 64,
     "metadata": {},
     "output_type": "execute_result"
    }
   ],
   "source": [
    "words_df = df = pd.read_csv(\"scrabble_words.txt\", delim_whitespace=True, names=['words'])\n",
    "words_df.head(10)"
   ]
  },
  {
   "cell_type": "code",
   "execution_count": 71,
   "id": "c2c57e6b-2260-43b5-8866-0b7636828cc2",
   "metadata": {},
   "outputs": [
    {
     "name": "stdout",
     "output_type": "stream",
     "text": [
      "✅ Total unique permutations: 878\n",
      "✅ Valid Scrabble words: 0\n",
      "❌ Invalid permutations (non-words): 878\n"
     ]
    }
   ],
   "source": [
    "scrabble_analyzer = Analyzer(Game5)\n",
    "permutations_df = scrabble_analyzer.permutations().reset_index()\n",
    "\n",
    "die_cols = [col for col in permutations_df.columns if col.startswith(\"Die\")]\n",
    "permutations_df[\"Word\"] = permutations_df[die_cols].agg(\"\".join, axis=1).str.upper()\n",
    "\n",
    "# Step 3: Load Scrabble dictionary from file\n",
    "with open(\"scrabble_words.txt\") as file:\n",
    "    scrabble_words = set(word.strip().upper() for word in file)\n",
    "\n",
    "# Step 4: Compare and count valid words\n",
    "permutations_df[\"IsWord\"] = permutations_df[\"Word\"].isin(scrabble_words)\n",
    "\n",
    "# Step 5: Report results\n",
    "valid_count = permutations_df[\"IsWord\"].sum()\n",
    "total_count = len(permutations_df)\n",
    "invalid_count = total_count - valid_count\n",
    "\n",
    "print(f\"✅ Total unique permutations: {total_count}\")\n",
    "print(f\"✅ Valid Scrabble words: {valid_count}\")\n",
    "print(f\"❌ Invalid permutations (non-words): {invalid_count}\")"
   ]
  },
  {
   "cell_type": "markdown",
   "id": "fcf068cf-381a-4b3e-ac3a-0510eb4dbdb0",
   "metadata": {},
   "source": [
    "Task 4. Repeat steps #2 and #3, this time with $5$ dice. How many actual words does this produce? Which produces more?\n",
    "\n",
    "- Successfully repreats steps (1).\n",
    "- Identifies parameter with most found words (1)."
   ]
  },
  {
   "cell_type": "code",
   "execution_count": null,
   "id": "9fab33f2-ea54-4535-ad9e-69c62900c69b",
   "metadata": {},
   "outputs": [],
   "source": []
  }
 ],
 "metadata": {
  "kernelspec": {
   "display_name": "Python [conda env:base] *",
   "language": "python",
   "name": "conda-base-py"
  },
  "language_info": {
   "codemirror_mode": {
    "name": "ipython",
    "version": 3
   },
   "file_extension": ".py",
   "mimetype": "text/x-python",
   "name": "python",
   "nbconvert_exporter": "python",
   "pygments_lexer": "ipython3",
   "version": "3.12.3"
  },
  "toc-autonumbering": true,
  "widgets": {
   "application/vnd.jupyter.widget-state+json": {
    "state": {},
    "version_major": 2,
    "version_minor": 0
   }
  }
 },
 "nbformat": 4,
 "nbformat_minor": 5
}
